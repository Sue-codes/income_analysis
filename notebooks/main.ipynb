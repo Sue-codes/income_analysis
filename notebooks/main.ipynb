{
 "cells": [
  {
   "cell_type": "markdown",
   "metadata": {},
   "source": [
    "# 1994 Census Data Of Adult Income"
   ]
  },
  {
   "cell_type": "markdown",
   "metadata": {},
   "source": [
    "## Step 1: Problem Statement"
   ]
  },
  {
   "cell_type": "markdown",
   "metadata": {},
   "source": [
    "This UCI machine learning repository data set is an extraction done by Barry Becker from the 1994 census database and contains anonymous information of adults relating their income to social factors such as age, education, race and so on.\n",
    "\n",
    "The data is structured and split into two cvs files: adult.data(the training data) and adult.test(test dataset), it also has a good combination of categorical, numerical and missing values.\n",
    "\n",
    "In this project, we aim to predict whether a person makes over 50K a year by training a binary classifier on adult.data to predict income which has two possible values \">50k\" and \"<=50k\" and evaluate the accuracy with data.test.\n",
    "\n",
    "This will enbale stakeholders indentify the social factors that contribute to a person making over 50k a year and take the necessary intiatives to help the disadvantaged.\n",
    "\n",
    "Features:Age,Workclass,Fnlwgt,Education.num,Marital.status,Occupation,Relationship,Race,sex,\n",
    "         Capital.gain,Capital.loss,hours.per.week,native.country\n",
    "\n",
    "Target: Income\n",
    "\n",
    "fnlwgt(sampling weight) is not related to the target variable income and will be removed before building the model.\n",
    "\n",
    "Problem type: Supervised classification."
   ]
  },
  {
   "cell_type": "markdown",
   "metadata": {},
   "source": [
    "## Step 2: Data Acquisition"
   ]
  },
  {
   "cell_type": "markdown",
   "metadata": {},
   "source": [
    "This dataset was obtained from the UCI repository, link for data source is https://archive.ics.uci.edu/ml/datasets/Adult"
   ]
  },
  {
   "cell_type": "markdown",
   "metadata": {},
   "source": [
    "## Step 3: Data Dictionary"
   ]
  },
  {
   "cell_type": "markdown",
   "metadata": {},
   "source": [
    "| Original Column Name | New Column Name | Description                                                                  | Data type |\n",
    "|----------------------|-----------------|------------------------------------------------------------------------------|-----------|\n",
    "| age                  | age             | Age of an individual                                                         | int       |\n",
    "| workclass            | work_class      | Type of ownership of the employing organization                              | string    |\n",
    "| fnlwgt               | fnlwgt          | Final weight. The number of people the census believes the entry represents  | int       |\n",
    "| education            | education       | The highest level of education achieved by an individual                     | string    |\n",
    "| education.num        | education_num   | Total number of years of education an individual has                         | int       |\n",
    "| marital.status       | marital_status  | Marital status of an individual                                              | string    |\n",
    "| occupation           | occupation      | The general type of occupation of an individual                              | string    |\n",
    "| relationship         | relationship    | What this individual is relative to others                                   | string    |\n",
    "| race                 | race            | Individual's race                                                            | string    |\n",
    "| sex                  | sex             | The biological sex of an individual                                          | string    |\n",
    "| capital.gain         | capital_gain    | Profit made from investment sources other than salary/wages                  | int       |\n",
    "| capital.loss         | capital_loss    | Loss made from investment sources other than salary/wages                    | int       |\n",
    "| hours.per.week       | hours_per_week  | The hours an individual has reported to work per week                        | int       |\n",
    "| native.country       | native_country  | Country of origin for an individual                                          | string    |\n",
    "| income               | income          | An individual's income valued as <=50k and >50k                              | string    |"
   ]
  },
  {
   "cell_type": "code",
   "execution_count": null,
   "metadata": {},
   "outputs": [],
   "source": []
  }
 ],
 "metadata": {
  "kernelspec": {
   "display_name": "Python 3",
   "language": "python",
   "name": "python3"
  },
  "language_info": {
   "codemirror_mode": {
    "name": "ipython",
    "version": 3
   },
   "file_extension": ".py",
   "mimetype": "text/x-python",
   "name": "python",
   "nbconvert_exporter": "python",
   "pygments_lexer": "ipython3",
   "version": "3.7.6"
  }
 },
 "nbformat": 4,
 "nbformat_minor": 4
}
